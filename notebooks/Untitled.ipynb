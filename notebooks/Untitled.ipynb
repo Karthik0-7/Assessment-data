{
 "cells": [
  {
   "cell_type": "code",
   "execution_count": 7,
   "id": "b35ae863-6d13-4ee2-92c5-3966a8cfe1e2",
   "metadata": {},
   "outputs": [
    {
     "name": "stdout",
     "output_type": "stream",
     "text": [
      "(142, 24)\n",
      "Sl. No. Col. (1)                                                                            object\n",
      "Crime Head Col. (2)                                                                         object\n",
      "Cases Pending Investigation from Previous Year - Col. (3)                                    int64\n",
      "Cases Reported during the year - Col. (4)                                                    int64\n",
      "Cases Reopened for Investigation - Col. (5)                                                  int64\n",
      "Total Cases for Investigation (Col.3+Col.4+Col.5) - Col. (6)                                 int64\n",
      "Cases Not Investigated Under 157_1_b CRPC - Col. (7)                                         int64\n",
      "Cases Transferred to Other State or Agency - Col. (8)                                        int64\n",
      "Cases Withdrawn by the Govt during Investigation - Col. (9)                                  int64\n",
      "Final Report - Cases Ended as FR Non Cognizable - Col. (10)                                  int64\n",
      "Final Report - Cases Ended as Final Report False - Col. (11)                                 int64\n",
      "Final Report - Cases Ended as Mistake of Fact or of law or Civil Dispute - Col. (12)         int64\n",
      "Final Report - Cases True but Insufficient Evidence or Untraced or No Clue - Col. (13)       int64\n",
      "Final Report - Cases Abated during Investigation - Col. (14)                                 int64\n",
      "Final Report - Total (Col.10+Col.11+Col.12+Col13+Col.14) - Col. (15)                         int64\n",
      "Charge Sheets Submitted - Cases ChargeSheeted Out of cases From Prev. Year - Col. (16)       int64\n",
      "Charge Sheets Submitted - Cases Charge sheeted Out of Cases during the year - Col. (17)      int64\n",
      "Charge Sheets Submitted - Cases Charge sheeted (Col.16+Col.17) - Col. (18)                   int64\n",
      "Total Cases Disposed Off by Police (Col.7+8+15+18) - Col. (19)                               int64\n",
      "Cases Quashed at Investigation Stage - Col. (20)                                             int64\n",
      "Cases Stayed at Investigation Stage - Col. (21)                                              int64\n",
      "Cases Pending Invsgn.at end of the year (Col.6-9-19-20) - Col. (22)                          int64\n",
      "Chargesheeting Rate (Col.18/19*100) - Col. (23)                                            float64\n",
      "Pendency Percentage (Col.22/6*100) - Col. (24)                                             float64\n",
      "dtype: object\n",
      "Sl. No. Col. (1)                                                                           0\n",
      "Crime Head Col. (2)                                                                        0\n",
      "Cases Pending Investigation from Previous Year - Col. (3)                                  0\n",
      "Cases Reported during the year - Col. (4)                                                  0\n",
      "Cases Reopened for Investigation - Col. (5)                                                0\n",
      "Total Cases for Investigation (Col.3+Col.4+Col.5) - Col. (6)                               0\n",
      "Cases Not Investigated Under 157_1_b CRPC - Col. (7)                                       0\n",
      "Cases Transferred to Other State or Agency - Col. (8)                                      0\n",
      "Cases Withdrawn by the Govt during Investigation - Col. (9)                                0\n",
      "Final Report - Cases Ended as FR Non Cognizable - Col. (10)                                0\n",
      "Final Report - Cases Ended as Final Report False - Col. (11)                               0\n",
      "Final Report - Cases Ended as Mistake of Fact or of law or Civil Dispute - Col. (12)       0\n",
      "Final Report - Cases True but Insufficient Evidence or Untraced or No Clue - Col. (13)     0\n",
      "Final Report - Cases Abated during Investigation - Col. (14)                               0\n",
      "Final Report - Total (Col.10+Col.11+Col.12+Col13+Col.14) - Col. (15)                       0\n",
      "Charge Sheets Submitted - Cases ChargeSheeted Out of cases From Prev. Year - Col. (16)     0\n",
      "Charge Sheets Submitted - Cases Charge sheeted Out of Cases during the year - Col. (17)    0\n",
      "Charge Sheets Submitted - Cases Charge sheeted (Col.16+Col.17) - Col. (18)                 0\n",
      "Total Cases Disposed Off by Police (Col.7+8+15+18) - Col. (19)                             0\n",
      "Cases Quashed at Investigation Stage - Col. (20)                                           0\n",
      "Cases Stayed at Investigation Stage - Col. (21)                                            0\n",
      "Cases Pending Invsgn.at end of the year (Col.6-9-19-20) - Col. (22)                        0\n",
      "Chargesheeting Rate (Col.18/19*100) - Col. (23)                                            0\n",
      "Pendency Percentage (Col.22/6*100) - Col. (24)                                             0\n",
      "dtype: int64\n"
     ]
    }
   ],
   "source": [
    "import pandas as pd\n",
    "df = pd.read_csv(\"crime.csv\")\n",
    "#print(df.head())\n",
    "print(df.shape)\n",
    "print(df.dtypes)\n",
    "print(df.isnull().sum())"
   ]
  },
  {
   "cell_type": "code",
   "execution_count": null,
   "id": "91f4efe0-6d8e-4abc-a36f-aeecf7fbbc1e",
   "metadata": {},
   "outputs": [],
   "source": []
  }
 ],
 "metadata": {
  "kernelspec": {
   "display_name": "Python [conda env:base] *",
   "language": "python",
   "name": "conda-base-py"
  },
  "language_info": {
   "codemirror_mode": {
    "name": "ipython",
    "version": 3
   },
   "file_extension": ".py",
   "mimetype": "text/x-python",
   "name": "python",
   "nbconvert_exporter": "python",
   "pygments_lexer": "ipython3",
   "version": "3.12.7"
  }
 },
 "nbformat": 4,
 "nbformat_minor": 5
}
